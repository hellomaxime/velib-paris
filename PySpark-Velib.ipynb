{
 "cells": [
  {
   "cell_type": "code",
   "execution_count": null,
   "id": "6bd12d35",
   "metadata": {},
   "outputs": [],
   "source": [
    "# pip install pyspark\n",
    "# pip install findspark"
   ]
  },
  {
   "cell_type": "code",
   "execution_count": 17,
   "id": "75435732",
   "metadata": {},
   "outputs": [
    {
     "name": "stdout",
     "output_type": "stream",
     "text": [
      "Spark started\n"
     ]
    }
   ],
   "source": [
    "import findspark\n",
    "from pyspark.sql import SparkSession\n",
    "from pyspark import SparkConf\n",
    "\n",
    "from pyspark.sql import *\n",
    "from pyspark.sql.functions import *\n",
    "from pyspark.sql.types import *\n",
    "\n",
    "findspark.init()\n",
    "\n",
    "def start_spark():\n",
    "    local = \"local[*]\"\n",
    "    appName = \"VelibParis\"\n",
    "    localConfig = SparkConf().setAppName(appName).setMaster(local).\\\n",
    "    set(\"spark.executor.memory\", \"2G\").\\\n",
    "    set(\"spark.driver.memory\", \"1G\").\\\n",
    "    set(\"spark.sql.catalogImplementation\", \"in-memory\")\n",
    "    \n",
    "    spark = SparkSession.builder.config(conf = localConfig).getOrCreate()\n",
    "    sc = spark.sparkContext\n",
    "    sc.setLogLevel(\"ERROR\")\n",
    "    \n",
    "    spark.conf.set(\"spark.sql.autoBroadcastJoinThreshold\", \"-1\")\n",
    "    spark.conf.set(\"spark.sql.shuffle.partitions\", \"4\")\n",
    "    return spark\n",
    "\n",
    "spark = start_spark()\n",
    "print(\"Spark started\")"
   ]
  },
  {
   "cell_type": "code",
   "execution_count": 18,
   "id": "9084a707",
   "metadata": {},
   "outputs": [
    {
     "name": "stdout",
     "output_type": "stream",
     "text": [
      "+----------+--------------------------------------+--------+\n",
      "|station_id|Velib station                         |Capacity|\n",
      "+----------+--------------------------------------+--------+\n",
      "|213688169 |Benjamin Godard - Victor Hugo         |35      |\n",
      "|653222953 |Mairie de Rosny-sous-Bois             |30      |\n",
      "|516709288 |Charonne - Robert et Sonia Delauney   |20      |\n",
      "|36255     |Toudouze - Clauzel                    |21      |\n",
      "|37815204  |Mairie du 12ème                       |30      |\n",
      "|100769544 |Harpe - Saint-Germain                 |45      |\n",
      "|85002689  |Jourdan - Stade Charléty              |60      |\n",
      "|123095125 |Alibert - Jemmapes                    |60      |\n",
      "|120827885 |Messine - Place Du Pérou              |12      |\n",
      "|251039991 |Cassini - Denfert-Rochereau           |25      |\n",
      "|37874517  |Saint-Sulpice                         |21      |\n",
      "|66491398  |Le Brun - Gobelins                    |48      |\n",
      "|210403080 |Lacépède - Monge                      |23      |\n",
      "|210561800 |Saint-Romain - Cherche-Midi           |17      |\n",
      "|209063434 |André Karman - République             |31      |\n",
      "|94555589  |Pierre et Marie Curie - Maurice Thorez|27      |\n",
      "|244498842 |Bois de Vincennes - Gare              |50      |\n",
      "|210405211 |Beaux-Arts - Bonaparte                |20      |\n",
      "|43195240  |Silly - Galliéni                      |25      |\n",
      "|501862076 |Place Nelson Mandela                  |22      |\n",
      "+----------+--------------------------------------+--------+\n",
      "only showing top 20 rows\n",
      "\n"
     ]
    }
   ],
   "source": [
    "import urllib.request\n",
    "import json\n",
    "\n",
    "urlVelib = \"https://velib-metropole-opendata.smoove.pro/opendata/Velib_Metropole/station_information.json\"\n",
    "\n",
    "with urllib.request.urlopen(urlVelib) as response:\n",
    "    encoding = response.info().get_content_charset('utf-8')\n",
    "    obj = json.loads(response.read().decode(encoding))\n",
    "    \n",
    "rdd = spark.sparkContext.parallelize([json.dumps(obj)])\n",
    "data = spark.read.json(rdd)\n",
    "#data.printSchema()\n",
    "\n",
    "stations = data.select(explode(\"data.stations\").alias(\"stations\"))\n",
    "stations = stations.select(\"stations.station_id\", col(\"stations.name\").alias(\"Velib station\"), col(\"stations.capacity\").alias(\"Capacity\"))\n",
    "\n",
    "#stations.persist()\n",
    "stations.show(truncate=False)"
   ]
  },
  {
   "cell_type": "code",
   "execution_count": 20,
   "id": "a127df79",
   "metadata": {},
   "outputs": [
    {
     "name": "stdout",
     "output_type": "stream",
     "text": [
      "+-----------+-----------------------------------------+--------+---------+\n",
      "|station_id |Velib station                            |Capacity|Available|\n",
      "+-----------+-----------------------------------------+--------+---------+\n",
      "|30730      |Place de la Nation - Charonne            |36      |7        |\n",
      "|15153595   |Nationale - Vincent Auriol               |33      |9        |\n",
      "|27415169   |Nationale - Marcel Duchamp               |23      |14       |\n",
      "|54000570   |Place de la Nation - Picpus              |36      |6        |\n",
      "|74635382   |Place de la Nation - Taillebourg         |47      |4        |\n",
      "|129132870  |Nationale - Place Jules Guesde           |23      |7        |\n",
      "|210568512  |Assemblée Nationale                      |63      |16       |\n",
      "|581480367  |Fabre d'Eglantine - Place de la Nation   |68      |11       |\n",
      "|653159330  |Quai de Sèvres - Manufacture Nationale   |28      |12       |\n",
      "|1057302263 |Place Nationale - Château-des-Rentiers   |18      |2        |\n",
      "|1062685145 |Bibliothèque Nationale - Richelieu       |17      |2        |\n",
      "|1062807847 |BNF - Bibliothèque Nationale de France   |42      |57       |\n",
      "|1063012692 |Kléber - National                        |20      |11       |\n",
      "|11438116799|Porte de Clichy - Place des Nations Unies|40      |11       |\n",
      "|15826185972|Faubourg St-Antoine - Place de la Nation |16      |7        |\n",
      "+-----------+-----------------------------------------+--------+---------+\n",
      "\n"
     ]
    }
   ],
   "source": [
    "station = \"Nation\"\n",
    "\n",
    "urlVelib = \"https://velib-metropole-opendata.smoove.pro/opendata/Velib_Metropole/station_status.json\"\n",
    "with urllib.request.urlopen(urlVelib) as response:\n",
    "    encoding = response.info().get_content_charset('utf-8')\n",
    "    obj = json.loads(response.read().decode(encoding))\n",
    "    \n",
    "rdd = spark.sparkContext.parallelize([json.dumps(obj)])\n",
    "data1 = spark.read.json(rdd)\n",
    "#data1.printSchema()\n",
    "\n",
    "data2 = data1.select(explode(\"data.stations\").alias(\"data\"))\n",
    "data2 = data2.select(\"data.station_id\", col(\"data.numBikesAvailable\").alias(\"Available\"))\n",
    "\n",
    "data3 = stations.join(data2, \"station_id\").filter(col(\"Velib station\").contains(station))\n",
    "data3.show(truncate=False)"
   ]
  }
 ],
 "metadata": {
  "kernelspec": {
   "display_name": "Python 3 (ipykernel)",
   "language": "python",
   "name": "python3"
  },
  "language_info": {
   "codemirror_mode": {
    "name": "ipython",
    "version": 3
   },
   "file_extension": ".py",
   "mimetype": "text/x-python",
   "name": "python",
   "nbconvert_exporter": "python",
   "pygments_lexer": "ipython3",
   "version": "3.10.4"
  }
 },
 "nbformat": 4,
 "nbformat_minor": 5
}
